{
  "cells": [
    {
      "cell_type": "code",
      "execution_count": null,
      "id": "xT5hHLdgXoET",
      "metadata": {
        "colab": {
          "base_uri": "https://localhost:8080/"
        },
        "id": "xT5hHLdgXoET",
        "outputId": "3fe28ea8-7e94-4a3a-e164-ff8a487ff544"
      },
      "outputs": [
        {
          "name": "stdout",
          "output_type": "stream",
          "text": [
            "Mounted at /content/drive\n"
          ]
        }
      ],
      "source": [
        "from google.colab import drive\n",
        "drive.mount('/content/drive')"
      ]
    },
    {
      "cell_type": "code",
      "execution_count": null,
      "id": "485e75fe",
      "metadata": {
        "id": "485e75fe"
      },
      "outputs": [],
      "source": [
        "import pandas as pd\n",
        "import torch\n",
        "import torch.nn as nn\n",
        "import math\n",
        "import numpy as np\n",
        "from sklearn.preprocessing import MinMaxScaler\n",
        "from sklearn.model_selection import train_test_split\n",
        "from sklearn.metrics import recall_score, precision_score, classification_report,accuracy_score,confusion_matrix, roc_curve, auc, roc_curve,accuracy_score,ConfusionMatrixDisplay\n",
        "from sklearn.metrics import confusion_matrix\n",
        "from sklearn import metrics\n",
        "import matplotlib.pyplot as plt\n",
        "import seaborn as sns\n",
        "from imblearn.over_sampling import SMOTE"
      ]
    },
    {
      "cell_type": "code",
      "execution_count": null,
      "id": "3f989b0e",
      "metadata": {
        "id": "3f989b0e"
      },
      "outputs": [],
      "source": [
        "class MultiHeadAttention(nn.Module):\n",
        "    def __init__(self, d_model, num_heads):\n",
        "        super(MultiHeadAttention, self).__init__()\n",
        "        assert d_model % num_heads == 0, \"d_model must be divisible by num_heads\"\n",
        "\n",
        "        self.d_model = d_model\n",
        "        self.num_heads = num_heads\n",
        "        self.d_k = d_model // num_heads\n",
        "\n",
        "        self.W_q = nn.Linear(d_model, d_model)\n",
        "        self.W_k = nn.Linear(d_model, d_model)\n",
        "        self.W_v = nn.Linear(d_model, d_model)\n",
        "        self.W_o = nn.Linear(d_model, d_model)\n",
        "\n",
        "    def scaled_dot_product_attention(self, Q, K, V, mask=None):\n",
        "        attn_scores = torch.matmul(Q, K.transpose(-2, -1)) / math.sqrt(self.d_k)\n",
        "        if mask is not None:\n",
        "            attn_scores = attn_scores.masked_fill(mask == 0, -1e9)\n",
        "        attn_probs = torch.softmax(attn_scores, dim=-1)\n",
        "        output = torch.matmul(attn_probs, V)\n",
        "        return output\n",
        "\n",
        "    def split_heads(self, x):\n",
        "        batch_size, seq_length, d_model = x.size()\n",
        "        return x.view(batch_size, seq_length, self.num_heads, self.d_k).transpose(1, 2)\n",
        "\n",
        "    def combine_heads(self, x):\n",
        "        batch_size, _, seq_length, d_k = x.size()\n",
        "        return x.transpose(1, 2).contiguous().view(batch_size, seq_length, self.d_model)\n",
        "\n",
        "    def forward(self, Q, K, V, mask=None):\n",
        "        Q = self.split_heads(self.W_q(Q))\n",
        "        K = self.split_heads(self.W_k(K))\n",
        "        V = self.split_heads(self.W_v(V))\n",
        "\n",
        "        attn_output = self.scaled_dot_product_attention(Q, K, V, mask)\n",
        "        output = self.W_o(self.combine_heads(attn_output))\n",
        "        return output"
      ]
    },
    {
      "cell_type": "code",
      "execution_count": null,
      "id": "5676e3f5",
      "metadata": {
        "id": "5676e3f5"
      },
      "outputs": [],
      "source": [
        "class PositionWiseFeedForward(nn.Module):\n",
        "    def __init__(self, d_model, d_ff):\n",
        "        super(PositionWiseFeedForward, self).__init__()\n",
        "        self.fc1 = nn.Linear(d_model, d_ff)\n",
        "        self.fc2 = nn.Linear(d_ff, d_model)\n",
        "        self.relu = nn.ReLU()\n",
        "\n",
        "    def forward(self, x):\n",
        "        return self.fc2(self.relu(self.fc1(x)))"
      ]
    },
    {
      "cell_type": "code",
      "execution_count": null,
      "id": "b1c3d9a7",
      "metadata": {
        "id": "b1c3d9a7"
      },
      "outputs": [],
      "source": [
        "class PositionalEncoding(nn.Module):\n",
        "    def __init__(self, d_model, max_seq_length):\n",
        "        super(PositionalEncoding, self).__init__()\n",
        "\n",
        "        pe = torch.zeros(max_seq_length, d_model)\n",
        "        position = torch.arange(0, max_seq_length, dtype=torch.float).unsqueeze(1)\n",
        "        div_term = torch.exp(torch.arange(0, d_model, 2).float() * -(math.log(10000.0) / d_model))\n",
        "\n",
        "        pe[:, 0::2] = torch.sin(position * div_term)\n",
        "        pe[:, 1::2] = torch.cos(position * div_term)\n",
        "        self.register_buffer('pe', pe.unsqueeze(0))\n",
        "\n",
        "    def forward(self, x):\n",
        "        return x + self.pe[:, :x.size(1)]"
      ]
    },
    {
      "cell_type": "code",
      "execution_count": null,
      "id": "48000332",
      "metadata": {
        "id": "48000332"
      },
      "outputs": [],
      "source": [
        "class EncoderLayer(nn.Module):\n",
        "    def __init__(self, d_model, num_heads, d_ff, dropout):\n",
        "        super(EncoderLayer, self).__init__()\n",
        "        self.self_attn = MultiHeadAttention(d_model, num_heads)\n",
        "        self.feed_forward = PositionWiseFeedForward(d_model, d_ff)\n",
        "        self.norm1 = nn.LayerNorm(d_model)\n",
        "        self.norm2 = nn.LayerNorm(d_model)\n",
        "        self.dropout = nn.Dropout(dropout)\n",
        "\n",
        "    def forward(self, x, mask):\n",
        "        attn_output = self.self_attn(x, x, x, mask)\n",
        "        x = self.norm1(x + self.dropout(attn_output))\n",
        "        ff_output = self.feed_forward(x)\n",
        "        x = self.norm2(x + self.dropout(ff_output))\n",
        "        return x"
      ]
    },
    {
      "cell_type": "code",
      "execution_count": null,
      "id": "59133c77",
      "metadata": {
        "id": "59133c77"
      },
      "outputs": [],
      "source": [
        "class DecoderLayer(nn.Module):\n",
        "    def __init__(self, d_model, num_heads, d_ff, dropout):\n",
        "        super(DecoderLayer, self).__init__()\n",
        "        self.self_attn = MultiHeadAttention(d_model, num_heads)\n",
        "        self.cross_attn = MultiHeadAttention(d_model, num_heads)\n",
        "        self.feed_forward = PositionWiseFeedForward(d_model, d_ff)\n",
        "        self.norm1 = nn.LayerNorm(d_model)\n",
        "        self.norm2 = nn.LayerNorm(d_model)\n",
        "        self.norm3 = nn.LayerNorm(d_model)\n",
        "        self.dropout = nn.Dropout(dropout)\n",
        "\n",
        "    def forward(self, x, enc_output, src_mask, tgt_mask):\n",
        "        attn_output = self.self_attn(x, x, x, tgt_mask)\n",
        "        x = self.norm1(x + self.dropout(attn_output))\n",
        "        attn_output = self.cross_attn(x, enc_output, enc_output, src_mask)\n",
        "        x = self.norm2(x + self.dropout(attn_output))\n",
        "        ff_output = self.feed_forward(x)\n",
        "        x = self.norm3(x + self.dropout(ff_output))\n",
        "        return x"
      ]
    },
    {
      "cell_type": "code",
      "execution_count": null,
      "id": "bb82ba37",
      "metadata": {
        "id": "bb82ba37"
      },
      "outputs": [],
      "source": [
        "class Transformer(nn.Module):\n",
        "    def __init__(self, src_vocab_size, tgt_vocab_size, d_model, num_heads, num_layers, d_ff, max_seq_length, dropout):\n",
        "        super(Transformer, self).__init__()\n",
        "        self.encoder_embedding = nn.Embedding(src_vocab_size, d_model)\n",
        "        self.decoder_embedding = nn.Embedding(tgt_vocab_size, d_model)\n",
        "        self.positional_encoding = PositionalEncoding(d_model, max_seq_length)\n",
        "\n",
        "        self.encoder_layers = nn.ModuleList(\n",
        "            [EncoderLayer(d_model, num_heads, d_ff, dropout) for _ in range(num_layers)])\n",
        "        self.decoder_layers = nn.ModuleList(\n",
        "            [DecoderLayer(d_model, num_heads, d_ff, dropout) for _ in range(num_layers)])\n",
        "\n",
        "        self.fc = nn.Linear(d_model, tgt_vocab_size)\n",
        "        self.dropout = nn.Dropout(dropout)\n",
        "\n",
        "    def generate_mask(self, src, tgt):\n",
        "        src_mask = (src != 0).unsqueeze(1).unsqueeze(2)\n",
        "        tgt_mask = (tgt != 0).unsqueeze(1).unsqueeze(2)\n",
        "        seq_length = tgt.size(-1)\n",
        "        nopeak_mask = (1 - torch.triu(torch.ones(1, 1, seq_length), diagonal=1)).bool()\n",
        "        tgt_mask = tgt_mask & nopeak_mask\n",
        "        return src_mask, tgt_mask\n",
        "\n",
        "    def forward(self, src, tgt):\n",
        "        src_mask, tgt_mask = self.generate_mask(src, tgt)\n",
        "        src_embedded = self.dropout(self.positional_encoding(self.encoder_embedding(src)))\n",
        "        tgt_embedded = self.dropout(self.positional_encoding(self.decoder_embedding(tgt)))\n",
        "        enc_output = src_embedded\n",
        "        for enc_layer in self.encoder_layers:\n",
        "            enc_output = enc_layer(enc_output, src_mask)\n",
        "\n",
        "        dec_output = tgt_embedded\n",
        "        for dec_layer in self.decoder_layers:\n",
        "            dec_output = dec_layer(dec_output, enc_output, src_mask, tgt_mask)\n",
        "\n",
        "        output = self.fc(dec_output)\n",
        "        return output"
      ]
    },
    {
      "cell_type": "code",
      "execution_count": null,
      "id": "6a940250",
      "metadata": {
        "id": "6a940250"
      },
      "outputs": [],
      "source": [
        "df = pd.read_csv('/content/drive/MyDrive/results.csv')\n",
        "pd.set_option('display.max_columns', None)  # Display all columns\n",
        "pd.set_option('display.expand_frame_repr', False)"
      ]
    },
    {
      "cell_type": "code",
      "execution_count": null,
      "id": "4c295919",
      "metadata": {
        "id": "4c295919"
      },
      "outputs": [],
      "source": [
        "df.drop('name_s', axis=1, inplace=True)\n",
        "df.drop('id', axis=1, inplace=True)\n",
        "df.drop('nuniverse', axis=1, inplace=True)"
      ]
    },
    {
      "cell_type": "code",
      "execution_count": null,
      "id": "58b3e7f6",
      "metadata": {
        "id": "58b3e7f6"
      },
      "outputs": [],
      "source": [
        "scaler_number = 20000\n",
        "scaler = MinMaxScaler(feature_range=(0, scaler_number))\n",
        "columns_to_scale = [col for col in df.columns if col != 'stype']\n",
        "df[columns_to_scale] = scaler.fit_transform(df[columns_to_scale])"
      ]
    },
    {
      "cell_type": "code",
      "execution_count": null,
      "id": "b821c7ee",
      "metadata": {
        "id": "b821c7ee"
      },
      "outputs": [],
      "source": [
        "data = pd.get_dummies(df, columns=['stype']).astype(int)\n",
        "data.reset_index(drop=True, inplace=True)"
      ]
    },
    {
      "cell_type": "code",
      "execution_count": null,
      "id": "c8ab0fbf",
      "metadata": {
        "id": "c8ab0fbf"
      },
      "outputs": [],
      "source": [
        "min_max_df = pd.DataFrame({\n",
        "    'Min': data.min(),\n",
        "    'Max': data.max()\n",
        "}).transpose()"
      ]
    },
    {
      "cell_type": "code",
      "execution_count": null,
      "id": "a0e8ca1d",
      "metadata": {
        "id": "a0e8ca1d"
      },
      "outputs": [],
      "source": [
        "# If you want to preserve the original column order\n",
        "min_max_df = min_max_df[data.columns]\n",
        "# print(min_max_df)"
      ]
    },
    {
      "cell_type": "code",
      "execution_count": null,
      "id": "4d70548c",
      "metadata": {
        "id": "4d70548c",
        "lines_to_next_cell": 2
      },
      "outputs": [],
      "source": [
        "flag = np.random.randint(0, 2, size=data.shape[0])"
      ]
    },
    {
      "cell_type": "code",
      "execution_count": null,
      "id": "jLPWvb1xCi_4",
      "metadata": {
        "id": "jLPWvb1xCi_4"
      },
      "outputs": [],
      "source": [
        "# smote\n",
        "sm = SMOTE(random_state=27)#, ratio = 1.0)\n",
        "data, flag = sm.fit_resample(data, flag)"
      ]
    },
    {
      "cell_type": "code",
      "execution_count": null,
      "id": "ca8a495f",
      "metadata": {
        "id": "ca8a495f"
      },
      "outputs": [],
      "source": [
        "encoded_data_train, remaining_data_test, flag_train, remaining_flag_test = train_test_split(\n",
        "    data, flag, train_size=0.7, random_state=42)"
      ]
    },
    {
      "cell_type": "code",
      "execution_count": null,
      "id": "b34f31c4",
      "metadata": {
        "id": "b34f31c4"
      },
      "outputs": [],
      "source": [
        "encoded_data_test, encoded_data_val, flag_test, flag_val = train_test_split(\n",
        "    remaining_data_test, remaining_flag_test, test_size=0.5, random_state=42)"
      ]
    },
    {
      "cell_type": "code",
      "execution_count": null,
      "id": "d8d05529",
      "metadata": {
        "colab": {
          "base_uri": "https://localhost:8080/"
        },
        "id": "d8d05529",
        "outputId": "d125f63e-7620-4efe-f95c-e84a961c982e"
      },
      "outputs": [
        {
          "name": "stderr",
          "output_type": "stream",
          "text": [
            "<ipython-input-116-da1e66198b9b>:3: UserWarning: To copy construct from a tensor, it is recommended to use sourceTensor.clone().detach() or sourceTensor.clone().detach().requires_grad_(True), rather than torch.tensor(sourceTensor).\n",
            "  encoded_data_train = torch.tensor(encoded_data_train, dtype=torch.long)\n"
          ]
        }
      ],
      "source": [
        "encoded_data_train = torch.Tensor(encoded_data_train.to_numpy())\n",
        "\n",
        "encoded_data_train = torch.tensor(encoded_data_train, dtype=torch.long)\n",
        "flag_train = torch.tensor(flag_train, dtype=torch.long)"
      ]
    },
    {
      "cell_type": "code",
      "execution_count": null,
      "id": "7e70a7a5",
      "metadata": {
        "colab": {
          "base_uri": "https://localhost:8080/"
        },
        "id": "7e70a7a5",
        "outputId": "a483920f-aa3c-43b1-b0bb-5265aa38cb11"
      },
      "outputs": [
        {
          "name": "stderr",
          "output_type": "stream",
          "text": [
            "<ipython-input-117-747c74d9a1bb>:3: UserWarning: To copy construct from a tensor, it is recommended to use sourceTensor.clone().detach() or sourceTensor.clone().detach().requires_grad_(True), rather than torch.tensor(sourceTensor).\n",
            "  encoded_data_test = torch.tensor(encoded_data_test, dtype=torch.long)\n"
          ]
        }
      ],
      "source": [
        "encoded_data_test = torch.Tensor(encoded_data_test.to_numpy())\n",
        "\n",
        "encoded_data_test = torch.tensor(encoded_data_test, dtype=torch.long)\n",
        "flag_test = torch.tensor(flag_test, dtype=torch.long)"
      ]
    },
    {
      "cell_type": "code",
      "execution_count": null,
      "id": "a7de045c",
      "metadata": {
        "colab": {
          "base_uri": "https://localhost:8080/"
        },
        "id": "a7de045c",
        "outputId": "c0f14305-7df7-44b9-f8bd-3e09d8235074"
      },
      "outputs": [
        {
          "name": "stderr",
          "output_type": "stream",
          "text": [
            "<ipython-input-118-29bb348866bd>:3: UserWarning: To copy construct from a tensor, it is recommended to use sourceTensor.clone().detach() or sourceTensor.clone().detach().requires_grad_(True), rather than torch.tensor(sourceTensor).\n",
            "  encoded_data_val = torch.tensor(encoded_data_val, dtype=torch.long)\n"
          ]
        }
      ],
      "source": [
        "encoded_data_val = torch.Tensor(encoded_data_val.to_numpy())\n",
        "\n",
        "encoded_data_val = torch.tensor(encoded_data_val, dtype=torch.long)\n",
        "flag_val = torch.tensor(flag_val, dtype=torch.long)"
      ]
    },
    {
      "cell_type": "code",
      "execution_count": null,
      "id": "a75cfdab",
      "metadata": {
        "id": "a75cfdab"
      },
      "outputs": [],
      "source": [
        "src_vocab_size = scaler_number + 1\n",
        "tgt_vocab_size = 2\n",
        "d_model = 128\n",
        "num_heads = 1\n",
        "num_layers = 2\n",
        "d_ff = 32\n",
        "max_seq_length = 48\n",
        "dropout = 0.1\n",
        "epoch_num = 30"
      ]
    },
    {
      "cell_type": "code",
      "execution_count": null,
      "id": "eec0d6a5",
      "metadata": {
        "id": "eec0d6a5"
      },
      "outputs": [],
      "source": [
        "transformer = Transformer(src_vocab_size, tgt_vocab_size, d_model, num_heads, num_layers, d_ff, max_seq_length, dropout)\n",
        "criterion = nn.BCEWithLogitsLoss()\n",
        "optimizer = torch.optim.Adam(transformer.parameters(), lr=0.0001, betas=(0.9, 0.98), eps=1e-9)"
      ]
    },
    {
      "cell_type": "code",
      "execution_count": null,
      "id": "0a113549",
      "metadata": {
        "id": "0a113549"
      },
      "outputs": [],
      "source": [
        "train_losses = []\n",
        "val_losses = []\n",
        "test_losses = []"
      ]
    },
    {
      "cell_type": "code",
      "execution_count": null,
      "id": "9de595a3",
      "metadata": {
        "colab": {
          "base_uri": "https://localhost:8080/"
        },
        "id": "9de595a3",
        "outputId": "55a9a5e7-f03a-43fc-e5fd-7849b3295337"
      },
      "outputs": [
        {
          "name": "stdout",
          "output_type": "stream",
          "text": [
            "Epoch: 1, Loss: 0.7278158068656921)\n",
            "Epoch: 2, Loss: 0.6810393929481506)\n",
            "Epoch: 3, Loss: 0.6367959380149841)\n",
            "Epoch: 4, Loss: 0.5973204970359802)\n",
            "Epoch: 5, Loss: 0.5599190592765808)\n",
            "Epoch: 6, Loss: 0.5272093415260315)\n",
            "Epoch: 7, Loss: 0.4970846474170685)\n",
            "Epoch: 8, Loss: 0.47001713514328003)\n",
            "Epoch: 9, Loss: 0.44236308336257935)\n",
            "Epoch: 10, Loss: 0.4149581789970398)\n",
            "Epoch: 10, Validation Loss: 0.4149581789970398\n",
            "Epoch: 11, Loss: 0.39151036739349365)\n",
            "Epoch: 12, Loss: 0.36700499057769775)\n",
            "Epoch: 13, Loss: 0.34174248576164246)\n",
            "Epoch: 14, Loss: 0.3202223777770996)\n",
            "Epoch: 15, Loss: 0.298328161239624)\n",
            "Epoch: 16, Loss: 0.27844980359077454)\n",
            "Epoch: 17, Loss: 0.2584841549396515)\n",
            "Epoch: 18, Loss: 0.24128006398677826)\n",
            "Epoch: 19, Loss: 0.22422964870929718)\n",
            "Epoch: 20, Loss: 0.2081281542778015)\n",
            "Epoch: 20, Validation Loss: 0.2081281542778015\n",
            "Epoch: 21, Loss: 0.1937023550271988)\n",
            "Epoch: 22, Loss: 0.1800953596830368)\n",
            "Epoch: 23, Loss: 0.1680223047733307)\n",
            "Epoch: 24, Loss: 0.15618865191936493)\n",
            "Epoch: 25, Loss: 0.14567771553993225)\n",
            "Epoch: 26, Loss: 0.1357138603925705)\n",
            "Epoch: 27, Loss: 0.1263791173696518)\n",
            "Epoch: 28, Loss: 0.11810765415430069)\n",
            "Epoch: 29, Loss: 0.10992027819156647)\n",
            "Epoch: 30, Loss: 0.102535679936409)\n",
            "Epoch: 30, Validation Loss: 0.102535679936409\n"
          ]
        }
      ],
      "source": [
        "transformer.train()\n",
        "for epoch in range(epoch_num):\n",
        "    optimizer.zero_grad()\n",
        "    output = transformer(encoded_data_train, flag_train.unsqueeze(1))\n",
        "    flag_train_dim = torch.cat((1 - flag_train.view(-1, 1), flag_train.view(-1, 1)), dim=1)\n",
        "    loss = criterion(output.contiguous().view(-1, tgt_vocab_size), flag_train_dim.float())\n",
        "    loss.backward()\n",
        "    optimizer.step()\n",
        "    train_losses.append(loss.item())\n",
        "    # train_accuracy = accuracy_score(output.contiguous().view(-1, tgt_vocab_size), flag_train_dim.float())\n",
        "    # train_accuracies.append(train_accuracy)\n",
        "    print(f\"Epoch: {epoch + 1}, Loss: {loss.item()})\") # , Training Accuracy: {train_accuracy:.4f}\")\n",
        "\n",
        "    if (epoch + 1) % 10 == 0:\n",
        "        transformer.eval()\n",
        "        with torch.no_grad():\n",
        "            val_output = transformer(encoded_data_val, flag_val.unsqueeze(1))\n",
        "            val_flag_dim = torch.cat((1 - flag_val.view(-1, 1), flag_val.view(-1, 1)), dim=1)\n",
        "            val_loss = criterion(val_output.contiguous().view(-1, tgt_vocab_size), val_flag_dim.float())\n",
        "            val_losses.append(val_loss.item())\n",
        "            # val_accuracy = accuracy_score(val_output.contiguous().view(-1, tgt_vocab_size), val_flag_dim.float())\n",
        "            # val_accuracies.append(val_accuracy)\n",
        "            print(f\"Epoch: {epoch + 1}, Validation Loss: {loss.item()}\") #, Validation Accuracy: {train_accuracy:.4f}\")\n",
        "\n",
        "        transformer.train()"
      ]
    },
    {
      "cell_type": "code",
      "execution_count": null,
      "id": "708e512e",
      "metadata": {
        "colab": {
          "base_uri": "https://localhost:8080/"
        },
        "id": "708e512e",
        "outputId": "9b8b5d89-be3e-4314-e412-ea7d58d6e102"
      },
      "outputs": [
        {
          "name": "stdout",
          "output_type": "stream",
          "text": [
            "Testing Loss: 0.07135450094938278\n"
          ]
        }
      ],
      "source": [
        "transformer.eval()\n",
        "with torch.no_grad():\n",
        "    test_output = transformer(encoded_data_test, flag_test.unsqueeze(1))\n",
        "    test_flag_dim = torch.cat((1 - flag_test.view(-1, 1), flag_test.view(-1, 1)), dim=1)\n",
        "    test_loss = criterion(test_output.contiguous().view(-1, tgt_vocab_size), test_flag_dim.float())\n",
        "    test_losses.append(test_loss.item())\n",
        "    # test_accuracy = accuracy_score(test_output.contiguous().view(-1, tgt_vocab_size), test_flag_dim.float())\n",
        "    print(f\"Testing Loss: {test_loss.item()}\") #, Testing Accuracy: {test_accuracy:.4f}\")"
      ]
    },
    {
      "cell_type": "code",
      "execution_count": null,
      "id": "d2yPRXeg9OqD",
      "metadata": {
        "colab": {
          "base_uri": "https://localhost:8080/"
        },
        "id": "d2yPRXeg9OqD",
        "outputId": "1359895a-7fca-455f-a3b0-c9e21c59b425"
      },
      "outputs": [
        {
          "name": "stdout",
          "output_type": "stream",
          "text": [
            "              precision    recall  f1-score   support\n",
            "\n",
            "           0       1.00      1.00      1.00      1042\n",
            "           1       1.00      1.00      1.00      1068\n",
            "\n",
            "    accuracy                           1.00      2110\n",
            "   macro avg       1.00      1.00      1.00      2110\n",
            "weighted avg       1.00      1.00      1.00      2110\n",
            "\n"
          ]
        }
      ],
      "source": [
        "from sklearn.metrics import classification_report\n",
        "\n",
        "# Convert output probabilities to binary predictions\n",
        "predicted_classes = torch.round(torch.sigmoid(test_output)).squeeze().cpu().numpy()\n",
        "if predicted_classes.ndim > 1:\n",
        "    predicted_classes = np.argmax(predicted_classes, axis=1)\n",
        "\n",
        "# Convert true classes to binary indicators\n",
        "true_classes = flag_test.cpu().numpy()\n",
        "\n",
        "# Classification report\n",
        "report = classification_report(true_classes, predicted_classes)\n",
        "print(report)"
      ]
    },
    {
      "cell_type": "code",
      "execution_count": null,
      "id": "49eciu6_sJ2h",
      "metadata": {
        "colab": {
          "base_uri": "https://localhost:8080/",
          "height": 607
        },
        "id": "49eciu6_sJ2h",
        "outputId": "5cfb8e98-2985-4bad-f460-07e59a4d6863"
      },
      "outputs": [
        {
          "data": {
            "image/png": "[encoded data removed]",
            "text/plain": [
              "<Figure size 1400x600 with 1 Axes>"
            ]
          },
          "metadata": {},
          "output_type": "display_data"
        }
      ],
      "source": [
        "plt.figure(figsize=(14, 6))\n",
        "\n",
        "# Plot Training and Validation Loss\n",
        "plt.subplot(1, 2, 1)\n",
        "plt.plot(train_losses, label='Training Loss')\n",
        "plt.plot(range(9, epoch_num, 10), val_losses, label='Validation Loss')\n",
        "plt.xlabel('Epoch')\n",
        "plt.ylabel('Loss')\n",
        "plt.title('Training and Validation Loss')\n",
        "plt.legend()\n",
        "\n",
        "plt.tight_layout()\n",
        "plt.show()"
      ]
    },
    {
      "cell_type": "code",
      "execution_count": null,
      "id": "N71aDitKtPjV",
      "metadata": {
        "id": "N71aDitKtPjV"
      },
      "outputs": [],
      "source": []
    }
  ],
  "metadata": {
    "colab": {
      "provenance": []
    },
    "jupytext": {
      "cell_metadata_filter": "-all",
      "main_language": "python",
      "notebook_metadata_filter": "-all"
    },
    "kernelspec": {
      "display_name": "Python 3",
      "name": "python3"
    },
    "language_info": {
      "name": "python"
    }
  },
  "nbformat": 4,
  "nbformat_minor": 5
}
